{
 "cells": [
  {
   "cell_type": "code",
   "execution_count": 13,
   "id": "99451072-e56a-4f5c-bcb5-e40d835ceda6",
   "metadata": {},
   "outputs": [
    {
     "name": "stdout",
     "output_type": "stream",
     "text": [
      "An error occurred: 400 Client Error: Bad Request for url: https://graph.instagram.com/v12.0/oauth/access_token?client_id=3334907033468181&client_secret=1a0d2eb8d5ad8f26dec61eca2247d797&grant_type=client_credentials\n"
     ]
    },
    {
     "ename": "HTTPError",
     "evalue": "400 Client Error: Bad Request for url: https://graph.instagram.com/v12.0/oauth/access_token?client_id=3334907033468181&client_secret=1a0d2eb8d5ad8f26dec61eca2247d797&grant_type=client_credentials",
     "output_type": "error",
     "traceback": [
      "\u001b[0;31m---------------------------------------------------------------------------\u001b[0m",
      "\u001b[0;31mHTTPError\u001b[0m                                 Traceback (most recent call last)",
      "Cell \u001b[0;32mIn[13], line 20\u001b[0m\n\u001b[1;32m     18\u001b[0m \u001b[38;5;28;01mtry\u001b[39;00m:\n\u001b[1;32m     19\u001b[0m     response \u001b[38;5;241m=\u001b[39m requests\u001b[38;5;241m.\u001b[39mget(token_url)\n\u001b[0;32m---> 20\u001b[0m     \u001b[43mresponse\u001b[49m\u001b[38;5;241;43m.\u001b[39;49m\u001b[43mraise_for_status\u001b[49m\u001b[43m(\u001b[49m\u001b[43m)\u001b[49m  \u001b[38;5;66;03m# Raise an exception for HTTP errors\u001b[39;00m\n\u001b[1;32m     22\u001b[0m     \u001b[38;5;28;01mif\u001b[39;00m response\u001b[38;5;241m.\u001b[39mstatus_code \u001b[38;5;241m==\u001b[39m \u001b[38;5;241m400\u001b[39m:\n\u001b[1;32m     23\u001b[0m         \u001b[38;5;28mprint\u001b[39m(\u001b[38;5;124m\"\u001b[39m\u001b[38;5;124mError: 400 Bad Request\u001b[39m\u001b[38;5;124m\"\u001b[39m)\n",
      "File \u001b[0;32m/opt/miniconda3/lib/python3.10/site-packages/requests/models.py:1021\u001b[0m, in \u001b[0;36mResponse.raise_for_status\u001b[0;34m(self)\u001b[0m\n\u001b[1;32m   1016\u001b[0m     http_error_msg \u001b[38;5;241m=\u001b[39m (\n\u001b[1;32m   1017\u001b[0m         \u001b[38;5;124mf\u001b[39m\u001b[38;5;124m\"\u001b[39m\u001b[38;5;132;01m{\u001b[39;00m\u001b[38;5;28mself\u001b[39m\u001b[38;5;241m.\u001b[39mstatus_code\u001b[38;5;132;01m}\u001b[39;00m\u001b[38;5;124m Server Error: \u001b[39m\u001b[38;5;132;01m{\u001b[39;00mreason\u001b[38;5;132;01m}\u001b[39;00m\u001b[38;5;124m for url: \u001b[39m\u001b[38;5;132;01m{\u001b[39;00m\u001b[38;5;28mself\u001b[39m\u001b[38;5;241m.\u001b[39murl\u001b[38;5;132;01m}\u001b[39;00m\u001b[38;5;124m\"\u001b[39m\n\u001b[1;32m   1018\u001b[0m     )\n\u001b[1;32m   1020\u001b[0m \u001b[38;5;28;01mif\u001b[39;00m http_error_msg:\n\u001b[0;32m-> 1021\u001b[0m     \u001b[38;5;28;01mraise\u001b[39;00m HTTPError(http_error_msg, response\u001b[38;5;241m=\u001b[39m\u001b[38;5;28mself\u001b[39m)\n",
      "\u001b[0;31mHTTPError\u001b[0m: 400 Client Error: Bad Request for url: https://graph.instagram.com/v12.0/oauth/access_token?client_id=3334907033468181&client_secret=1a0d2eb8d5ad8f26dec61eca2247d797&grant_type=client_credentials"
     ]
    }
   ],
   "source": [
    "import requests\n",
    "\n",
    "# Specify the full path to the credentials file\n",
    "credentials_file_path = '/Users/samsonbakos/keys/formcheck_credentials.txt'\n",
    "\n",
    "with open(credentials_file_path, 'r') as file:\n",
    "    credentials = dict(line.strip().split('=') for line in file)\n",
    "\n",
    "app_id = credentials.get('INSTAGRAM_APP_ID')\n",
    "app_secret = credentials.get('INSTAGRAM_APP_SECRET')\n",
    "\n",
    "if not app_id or not app_secret:\n",
    "    raise ValueError(\"Please provide valid INSTAGRAM_APP_ID and INSTAGRAM_APP_SECRET in the credentials file.\")\n",
    "\n",
    "# Get an App Token\n",
    "token_url = f'https://graph.instagram.com/v12.0/oauth/access_token?client_id={app_id}&client_secret={app_secret}&grant_type=client_credentials'\n",
    "\n",
    "try:\n",
    "    response = requests.get(token_url)\n",
    "    response.raise_for_status()  # Raise an exception for HTTP errors\n",
    "\n",
    "    if response.status_code == 400:\n",
    "        print(\"Error: 400 Bad Request\")\n",
    "        print(f\"Response content: {response.text}\")\n",
    "    else:\n",
    "        app_token = response.json().get('access_token')\n",
    "\n",
    "        # Replace 'Squat' with the hashtag you want to search for\n",
    "        hashtag = 'Squat'\n",
    "\n",
    "        # Get recent media with the specified hashtag using the App Token\n",
    "        media_url = f'https://graph.instagram.com/v12.0/tags/{hashtag}/recent_media?access_token={app_token}'\n",
    "        response = requests.get(media_url)\n",
    "        response.raise_for_status()  # Raise an exception for HTTP errors\n",
    "\n",
    "        media_data = response.json()\n",
    "\n",
    "        # Process the media data as needed\n",
    "        for media in media_data.get('data', []):\n",
    "            video_url = media.get('permalink')\n",
    "            print(f\"Video URL: {video_url}\")\n",
    "\n",
    "except requests.exceptions.RequestException as e:\n",
    "    print(f\"An error occurred: {e}\")\n",
    "    raise\n"
   ]
  },
  {
   "cell_type": "code",
   "execution_count": null,
   "id": "65e0ec20-0d17-47c2-84d2-e2fc95c19053",
   "metadata": {},
   "outputs": [],
   "source": []
  }
 ],
 "metadata": {
  "kernelspec": {
   "display_name": "Python 3 (ipykernel)",
   "language": "python",
   "name": "python3"
  },
  "language_info": {
   "codemirror_mode": {
    "name": "ipython",
    "version": 3
   },
   "file_extension": ".py",
   "mimetype": "text/x-python",
   "name": "python",
   "nbconvert_exporter": "python",
   "pygments_lexer": "ipython3",
   "version": "3.10.6"
  }
 },
 "nbformat": 4,
 "nbformat_minor": 5
}
